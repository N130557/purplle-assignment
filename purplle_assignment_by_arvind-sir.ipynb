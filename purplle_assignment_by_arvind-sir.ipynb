{
 "cells": [
  {
   "cell_type": "markdown",
   "metadata": {},
   "source": [
    "### Hello sir, Here i am using jupyter notebook to solve this kind of tasks easily.and i am giving explanation to each and every line of code what i have written.what kind of operations i am doing.please look into it sir."
   ]
  },
  {
   "cell_type": "markdown",
   "metadata": {},
   "source": [
    "### Here i am importing necessary packages"
   ]
  },
  {
   "cell_type": "code",
   "execution_count": 1,
   "metadata": {},
   "outputs": [],
   "source": [
    "import pandas as pd\n",
    "import numpy as np"
   ]
  },
  {
   "cell_type": "markdown",
   "metadata": {},
   "source": [
    "### Here i am importing dataset what i have prepared by my own.values has taken by me randomly based on estimation of size of product."
   ]
  },
  {
   "cell_type": "code",
   "execution_count": 2,
   "metadata": {},
   "outputs": [],
   "source": [
    "dataset=pd.read_csv(\"C:/Users/SMMVVD/Desktop/purplle/purplle_Dataset.csv\")"
   ]
  },
  {
   "cell_type": "code",
   "execution_count": 3,
   "metadata": {},
   "outputs": [
    {
     "data": {
      "text/html": [
       "<div>\n",
       "<style scoped>\n",
       "    .dataframe tbody tr th:only-of-type {\n",
       "        vertical-align: middle;\n",
       "    }\n",
       "\n",
       "    .dataframe tbody tr th {\n",
       "        vertical-align: top;\n",
       "    }\n",
       "\n",
       "    .dataframe thead th {\n",
       "        text-align: right;\n",
       "    }\n",
       "</style>\n",
       "<table border=\"1\" class=\"dataframe\">\n",
       "  <thead>\n",
       "    <tr style=\"text-align: right;\">\n",
       "      <th></th>\n",
       "      <th>product_id</th>\n",
       "      <th>product_name</th>\n",
       "      <th>quantity_of_product</th>\n",
       "      <th>weight_of_Product_in_gms</th>\n",
       "    </tr>\n",
       "  </thead>\n",
       "  <tbody>\n",
       "    <tr>\n",
       "      <th>0</th>\n",
       "      <td>1001</td>\n",
       "      <td>softsens-baby-natural-bar</td>\n",
       "      <td>1</td>\n",
       "      <td>300</td>\n",
       "    </tr>\n",
       "    <tr>\n",
       "      <th>1</th>\n",
       "      <td>1002</td>\n",
       "      <td>Biotique Baby Bio</td>\n",
       "      <td>1</td>\n",
       "      <td>500</td>\n",
       "    </tr>\n",
       "    <tr>\n",
       "      <th>2</th>\n",
       "      <td>1003</td>\n",
       "      <td>Nivea shower Gel</td>\n",
       "      <td>1</td>\n",
       "      <td>500</td>\n",
       "    </tr>\n",
       "    <tr>\n",
       "      <th>3</th>\n",
       "      <td>1004</td>\n",
       "      <td>Veet Hair Removal Cream</td>\n",
       "      <td>1</td>\n",
       "      <td>200</td>\n",
       "    </tr>\n",
       "    <tr>\n",
       "      <th>4</th>\n",
       "      <td>1005</td>\n",
       "      <td>Jeva Liposoluble wax</td>\n",
       "      <td>1</td>\n",
       "      <td>3000</td>\n",
       "    </tr>\n",
       "    <tr>\n",
       "      <th>5</th>\n",
       "      <td>1006</td>\n",
       "      <td>Nivea Body Cream</td>\n",
       "      <td>1</td>\n",
       "      <td>800</td>\n",
       "    </tr>\n",
       "    <tr>\n",
       "      <th>6</th>\n",
       "      <td>1007</td>\n",
       "      <td>Liril_Soap_Bundle</td>\n",
       "      <td>1</td>\n",
       "      <td>4000</td>\n",
       "    </tr>\n",
       "    <tr>\n",
       "      <th>7</th>\n",
       "      <td>1008</td>\n",
       "      <td>Headandshoulder_shampoo_bottle</td>\n",
       "      <td>1</td>\n",
       "      <td>3000</td>\n",
       "    </tr>\n",
       "    <tr>\n",
       "      <th>8</th>\n",
       "      <td>1009</td>\n",
       "      <td>sanitary_pads</td>\n",
       "      <td>1</td>\n",
       "      <td>4000</td>\n",
       "    </tr>\n",
       "    <tr>\n",
       "      <th>9</th>\n",
       "      <td>1111</td>\n",
       "      <td>parachute_hair_oil_bottle</td>\n",
       "      <td>1</td>\n",
       "      <td>2000</td>\n",
       "    </tr>\n",
       "    <tr>\n",
       "      <th>10</th>\n",
       "      <td>1112</td>\n",
       "      <td>mirror</td>\n",
       "      <td>1</td>\n",
       "      <td>1000</td>\n",
       "    </tr>\n",
       "    <tr>\n",
       "      <th>11</th>\n",
       "      <td>1113</td>\n",
       "      <td>oley_face_gel</td>\n",
       "      <td>1</td>\n",
       "      <td>500</td>\n",
       "    </tr>\n",
       "  </tbody>\n",
       "</table>\n",
       "</div>"
      ],
      "text/plain": [
       "    product_id                    product_name  quantity_of_product  \\\n",
       "0         1001       softsens-baby-natural-bar                    1   \n",
       "1         1002              Biotique Baby Bio                     1   \n",
       "2         1003                Nivea shower Gel                    1   \n",
       "3         1004         Veet Hair Removal Cream                    1   \n",
       "4         1005           Jeva Liposoluble wax                     1   \n",
       "5         1006                Nivea Body Cream                    1   \n",
       "6         1007               Liril_Soap_Bundle                    1   \n",
       "7         1008  Headandshoulder_shampoo_bottle                    1   \n",
       "8         1009                   sanitary_pads                    1   \n",
       "9         1111       parachute_hair_oil_bottle                    1   \n",
       "10        1112                          mirror                    1   \n",
       "11        1113                   oley_face_gel                    1   \n",
       "\n",
       "    weight_of_Product_in_gms  \n",
       "0                        300  \n",
       "1                        500  \n",
       "2                        500  \n",
       "3                        200  \n",
       "4                       3000  \n",
       "5                        800  \n",
       "6                       4000  \n",
       "7                       3000  \n",
       "8                       4000  \n",
       "9                       2000  \n",
       "10                      1000  \n",
       "11                       500  "
      ]
     },
     "execution_count": 3,
     "metadata": {},
     "output_type": "execute_result"
    }
   ],
   "source": [
    "dataset"
   ]
  },
  {
   "cell_type": "code",
   "execution_count": 4,
   "metadata": {},
   "outputs": [
    {
     "data": {
      "text/html": [
       "<div>\n",
       "<style scoped>\n",
       "    .dataframe tbody tr th:only-of-type {\n",
       "        vertical-align: middle;\n",
       "    }\n",
       "\n",
       "    .dataframe tbody tr th {\n",
       "        vertical-align: top;\n",
       "    }\n",
       "\n",
       "    .dataframe thead th {\n",
       "        text-align: right;\n",
       "    }\n",
       "</style>\n",
       "<table border=\"1\" class=\"dataframe\">\n",
       "  <thead>\n",
       "    <tr style=\"text-align: right;\">\n",
       "      <th></th>\n",
       "      <th>product_id</th>\n",
       "      <th>product_name</th>\n",
       "      <th>quantity_of_product</th>\n",
       "      <th>weight_of_Product_in_gms</th>\n",
       "    </tr>\n",
       "  </thead>\n",
       "  <tbody>\n",
       "    <tr>\n",
       "      <th>0</th>\n",
       "      <td>1001</td>\n",
       "      <td>softsens-baby-natural-bar</td>\n",
       "      <td>1</td>\n",
       "      <td>300</td>\n",
       "    </tr>\n",
       "    <tr>\n",
       "      <th>1</th>\n",
       "      <td>1002</td>\n",
       "      <td>Biotique Baby Bio</td>\n",
       "      <td>1</td>\n",
       "      <td>500</td>\n",
       "    </tr>\n",
       "    <tr>\n",
       "      <th>2</th>\n",
       "      <td>1003</td>\n",
       "      <td>Nivea shower Gel</td>\n",
       "      <td>1</td>\n",
       "      <td>500</td>\n",
       "    </tr>\n",
       "  </tbody>\n",
       "</table>\n",
       "</div>"
      ],
      "text/plain": [
       "   product_id               product_name  quantity_of_product  \\\n",
       "0        1001  softsens-baby-natural-bar                    1   \n",
       "1        1002         Biotique Baby Bio                     1   \n",
       "2        1003           Nivea shower Gel                    1   \n",
       "\n",
       "   weight_of_Product_in_gms  \n",
       "0                       300  \n",
       "1                       500  \n",
       "2                       500  "
      ]
     },
     "execution_count": 4,
     "metadata": {},
     "output_type": "execute_result"
    }
   ],
   "source": [
    "dataset.head(3)"
   ]
  },
  {
   "cell_type": "code",
   "execution_count": 5,
   "metadata": {},
   "outputs": [
    {
     "data": {
      "text/plain": [
       "(12, 4)"
      ]
     },
     "execution_count": 5,
     "metadata": {},
     "output_type": "execute_result"
    }
   ],
   "source": [
    "# our dataset contains 12 rows and 4 columns\n",
    "dataset.shape"
   ]
  },
  {
   "cell_type": "code",
   "execution_count": 6,
   "metadata": {},
   "outputs": [
    {
     "data": {
      "text/plain": [
       "0    softsens-baby-natural-bar\n",
       "1           Biotique Baby Bio \n",
       "2             Nivea shower Gel\n",
       "Name: product_name, dtype: object"
      ]
     },
     "execution_count": 6,
     "metadata": {},
     "output_type": "execute_result"
    }
   ],
   "source": [
    "# first 2 product names\n",
    "dataset['product_name'].head(3)"
   ]
  },
  {
   "cell_type": "code",
   "execution_count": 7,
   "metadata": {},
   "outputs": [
    {
     "data": {
      "text/plain": [
       "0      300\n",
       "1      500\n",
       "2      500\n",
       "3      200\n",
       "4     3000\n",
       "5      800\n",
       "6     4000\n",
       "7     3000\n",
       "8     4000\n",
       "9     2000\n",
       "10    1000\n",
       "11     500\n",
       "Name: weight_of_Product_in_gms, dtype: int64"
      ]
     },
     "execution_count": 7,
     "metadata": {},
     "output_type": "execute_result"
    }
   ],
   "source": [
    "# Weights of our products to solve the problem.\n",
    "dataset['weight_of_Product_in_gms']"
   ]
  },
  {
   "cell_type": "code",
   "execution_count": 8,
   "metadata": {},
   "outputs": [],
   "source": [
    "weights=dataset['weight_of_Product_in_gms']"
   ]
  },
  {
   "cell_type": "code",
   "execution_count": 9,
   "metadata": {},
   "outputs": [],
   "source": [
    "total=sum(weights)"
   ]
  },
  {
   "cell_type": "markdown",
   "metadata": {},
   "source": [
    "### Here the weights i have taken in gms means 4000 gms=4000/1000=4 kg"
   ]
  },
  {
   "cell_type": "code",
   "execution_count": 10,
   "metadata": {},
   "outputs": [
    {
     "data": {
      "text/plain": [
       "19.8"
      ]
     },
     "execution_count": 10,
     "metadata": {},
     "output_type": "execute_result"
    }
   ],
   "source": [
    "# Here i got 19.8 kg as per the task what you have given me sir.\n",
    "total/1000\n"
   ]
  },
  {
   "cell_type": "code",
   "execution_count": 11,
   "metadata": {},
   "outputs": [
    {
     "data": {
      "text/plain": [
       "0      300\n",
       "1      500\n",
       "2      500\n",
       "3      200\n",
       "4     3000\n",
       "5      800\n",
       "6     4000\n",
       "7     3000\n",
       "8     4000\n",
       "9     2000\n",
       "10    1000\n",
       "11     500\n",
       "Name: weight_of_Product_in_gms, dtype: int64"
      ]
     },
     "execution_count": 11,
     "metadata": {},
     "output_type": "execute_result"
    }
   ],
   "source": [
    "weights"
   ]
  },
  {
   "cell_type": "markdown",
   "metadata": {},
   "source": [
    "### Here is my solution please look into once sir"
   ]
  },
  {
   "cell_type": "code",
   "execution_count": 15,
   "metadata": {},
   "outputs": [
    {
     "data": {
      "text/plain": [
       "0      300\n",
       "1      500\n",
       "2      500\n",
       "3      200\n",
       "4     3000\n",
       "5      800\n",
       "6     4000\n",
       "7     3000\n",
       "8     4000\n",
       "9     2000\n",
       "10    1000\n",
       "11     500\n",
       "Name: weight_of_Product_in_gms, dtype: int64"
      ]
     },
     "execution_count": 15,
     "metadata": {},
     "output_type": "execute_result"
    }
   ],
   "source": [
    "inputs=weights\n",
    "inputs"
   ]
  },
  {
   "cell_type": "code",
   "execution_count": 25,
   "metadata": {},
   "outputs": [],
   "source": [
    "inputs=sorted(inputs)"
   ]
  },
  {
   "cell_type": "code",
   "execution_count": 26,
   "metadata": {},
   "outputs": [
    {
     "data": {
      "text/plain": [
       "[4000, 4000, 3000, 3000, 2000, 1000, 800, 500, 500, 500, 300, 200]"
      ]
     },
     "execution_count": 26,
     "metadata": {},
     "output_type": "execute_result"
    }
   ],
   "source": [
    "inputs=inputs[::-1]\n",
    "inputs"
   ]
  },
  {
   "cell_type": "code",
   "execution_count": 32,
   "metadata": {},
   "outputs": [
    {
     "name": "stdout",
     "output_type": "stream",
     "text": [
      "[[4000, 800, 200], [4000, 500, 500], [3000, 2000], [3000, 1000, 500, 300]]\n"
     ]
    }
   ],
   "source": [
    "import math\n",
    "n=len(inputs)\n",
    "\n",
    "#Here i am finding that how many containers wee need to deliver oders(ex: (19800/5)/1000)====> 4 containers we need each one 5kg\n",
    "\n",
    "m=math.ceil((sum(inputs)/5)/1000)\n",
    "sub_list=[]\n",
    "pos=0\n",
    "\n",
    "#Here i am creating number of containers \n",
    "\n",
    "for i in range(m):\n",
    "    sub_list.append([])\n",
    "    \n",
    "# Here i have used just basic operations of python to solve this problem\n",
    "j=0\n",
    "while(j<len(inputs)):\n",
    "    val = inputs[j]\n",
    "    index = pos%m\n",
    "    s = sum(sub_list[index])+val\n",
    "    if(s<=5000):\n",
    "    sub_list[index].append(val)\n",
    "    j = j+1\n",
    "    pos = pos+1\n",
    "print(sub_list)\n",
    "    "
   ]
  },
  {
   "cell_type": "markdown",
   "metadata": {},
   "source": [
    "#### The each container size should not cross the 5000 gms(5 kg),so here i fitted orders in each container which dont cross the 5kg limit"
   ]
  },
  {
   "cell_type": "markdown",
   "metadata": {},
   "source": [
    "#### if we want we can match the weights with our produts and we can print them which items should goes to first container etc...."
   ]
  },
  {
   "cell_type": "code",
   "execution_count": null,
   "metadata": {},
   "outputs": [],
   "source": []
  },
  {
   "cell_type": "code",
   "execution_count": null,
   "metadata": {},
   "outputs": [],
   "source": []
  }
 ],
 "metadata": {
  "kernelspec": {
   "display_name": "Python 3",
   "language": "python",
   "name": "python3"
  },
  "language_info": {
   "codemirror_mode": {
    "name": "ipython",
    "version": 3
   },
   "file_extension": ".py",
   "mimetype": "text/x-python",
   "name": "python",
   "nbconvert_exporter": "python",
   "pygments_lexer": "ipython3",
   "version": "3.7.1"
  }
 },
 "nbformat": 4,
 "nbformat_minor": 2
}
